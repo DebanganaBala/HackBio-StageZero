{
 "cells": [
  {
   "cell_type": "markdown",
   "id": "822dc95c",
   "metadata": {},
   "source": [
    "# Group Project - HackBio"
   ]
  },
  {
   "cell_type": "code",
   "execution_count": 11,
   "id": "f86d30c6",
   "metadata": {
    "scrolled": true
   },
   "outputs": [
    {
     "name": "stdout",
     "output_type": "stream",
     "text": [
      "               Name     Slack Username                   Country  \\\n",
      "Member 1   Svetlana  Svetlana Sokolova            United Kingdom   \n",
      "Member 2    Santosh          Santosh T  United States of America   \n",
      "Member 3  Debangana          debangana            United Kingdom   \n",
      "Member 4       Hana                  0                         0   \n",
      "\n",
      "                  Hobby                         Affiliation  \\\n",
      "Member 1  Playing Piano           Queens University Belfast   \n",
      "Member 2         Tennis  University of Texas at San Antonio   \n",
      "Member 3      Badminton  Queens University Belfast (Alumna)   \n",
      "Member 4              0                                   0   \n",
      "\n",
      "         Favourite Gene (gene name)  \n",
      "Member 1                       TP53  \n",
      "Member 2                       IFNB  \n",
      "Member 3                      BRCA1  \n",
      "Member 4                          0  \n"
     ]
    }
   ],
   "source": [
    "#Importing Pandas\n",
    "import pandas as pd\n",
    "\n",
    "#Creating dictionary with Column names (key) and Adding Member information next to each Column name (Values)\n",
    "data = {\n",
    "  \"Name\": [\"Svetlana\",\"Santosh\",\"Debangana\",\"Hana\"],\n",
    "  \"Slack Username\": [\"Svetlana Sokolova\",\"Santosh T\",\"debangana\",0],\n",
    "  \"Country\" :[\"United Kingdom\",\"United States of America\",\"United Kingdom\",0],\n",
    "  \"Hobby\":[\"Playing Piano\",\"Tennis\",\"Badminton\",0],\n",
    "  \"Affiliation\":[\"Queens University Belfast\",\"University of Texas at San Antonio\",\"Queens University Belfast (Alumna)\",0],\n",
    "  \"Favourite Gene (gene name)\":[\"TP53\",\"IFNB\",\"BRCA1\",0]\n",
    "}\n",
    "\n",
    "#Converting the dictionary to Dataframe with custom row names for better clarity \n",
    "df = pd.DataFrame(data, index = [\"Member 1\", \"Member 2\", \"Member 3\",\"Member 4\"])\n",
    " \n",
    "\n",
    "#Saving the dataframe as a csv file\n",
    "Data_csv = df.to_csv('data.csv', index= True)\n",
    "\n",
    "\n",
    "#Read the CSV file and use the first column as index \n",
    "df = pd.read_csv(\"data.csv\", index_col=0)\n",
    "print(df)"
   ]
  },
  {
   "cell_type": "code",
   "execution_count": null,
   "id": "80b13f80",
   "metadata": {},
   "outputs": [],
   "source": []
  }
 ],
 "metadata": {
  "kernelspec": {
   "display_name": "Python 3 (ipykernel)",
   "language": "python",
   "name": "python3"
  },
  "language_info": {
   "codemirror_mode": {
    "name": "ipython",
    "version": 3
   },
   "file_extension": ".py",
   "mimetype": "text/x-python",
   "name": "python",
   "nbconvert_exporter": "python",
   "pygments_lexer": "ipython3",
   "version": "3.9.7"
  }
 },
 "nbformat": 4,
 "nbformat_minor": 5
}
